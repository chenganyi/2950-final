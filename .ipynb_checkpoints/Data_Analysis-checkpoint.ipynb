{
 "cells": [
  {
   "cell_type": "code",
   "execution_count": 1,
   "metadata": {},
   "outputs": [],
   "source": [
    "import pandas as pd\n",
    "from matplotlib import pyplot as plt\n",
    "import numpy as np\n",
    "from sklearn.linear_model import LinearRegression"
   ]
  },
  {
   "cell_type": "code",
   "execution_count": 2,
   "metadata": {},
   "outputs": [],
   "source": [
    "Arrests = pd.read_csv(\"Arrests.csv\")\n",
    "Arrests = Arrests.drop(\"Unnamed: 0\", axis = 1)"
   ]
  },
  {
   "cell_type": "code",
   "execution_count": 3,
   "metadata": {},
   "outputs": [],
   "source": [
    "Catcolumns = [\"released\", 'employed', 'citizen']\n",
    "for Column in Catcolumns:\n",
    "    Arrests[Column] = Arrests[Column].map(dict(Yes=1, No=0))\n",
    "Arrests[\"colour\"] = Arrests[\"colour\"].map(dict(White=1, Black=0))"
   ]
  },
  {
   "cell_type": "code",
   "execution_count": 4,
   "metadata": {},
   "outputs": [
    {
     "data": {
      "text/html": [
       "<div>\n",
       "<style scoped>\n",
       "    .dataframe tbody tr th:only-of-type {\n",
       "        vertical-align: middle;\n",
       "    }\n",
       "\n",
       "    .dataframe tbody tr th {\n",
       "        vertical-align: top;\n",
       "    }\n",
       "\n",
       "    .dataframe thead th {\n",
       "        text-align: right;\n",
       "    }\n",
       "</style>\n",
       "<table border=\"1\" class=\"dataframe\">\n",
       "  <thead>\n",
       "    <tr style=\"text-align: right;\">\n",
       "      <th></th>\n",
       "      <th>released</th>\n",
       "      <th>colour</th>\n",
       "      <th>year</th>\n",
       "      <th>age</th>\n",
       "      <th>sex</th>\n",
       "      <th>employed</th>\n",
       "      <th>citizen</th>\n",
       "      <th>checks</th>\n",
       "    </tr>\n",
       "  </thead>\n",
       "  <tbody>\n",
       "    <tr>\n",
       "      <th>0</th>\n",
       "      <td>1</td>\n",
       "      <td>1</td>\n",
       "      <td>2002</td>\n",
       "      <td>21</td>\n",
       "      <td>Male</td>\n",
       "      <td>1</td>\n",
       "      <td>1</td>\n",
       "      <td>3</td>\n",
       "    </tr>\n",
       "    <tr>\n",
       "      <th>1</th>\n",
       "      <td>0</td>\n",
       "      <td>0</td>\n",
       "      <td>1999</td>\n",
       "      <td>17</td>\n",
       "      <td>Male</td>\n",
       "      <td>1</td>\n",
       "      <td>1</td>\n",
       "      <td>3</td>\n",
       "    </tr>\n",
       "    <tr>\n",
       "      <th>2</th>\n",
       "      <td>1</td>\n",
       "      <td>1</td>\n",
       "      <td>2000</td>\n",
       "      <td>24</td>\n",
       "      <td>Male</td>\n",
       "      <td>1</td>\n",
       "      <td>1</td>\n",
       "      <td>3</td>\n",
       "    </tr>\n",
       "    <tr>\n",
       "      <th>3</th>\n",
       "      <td>0</td>\n",
       "      <td>0</td>\n",
       "      <td>2000</td>\n",
       "      <td>46</td>\n",
       "      <td>Male</td>\n",
       "      <td>1</td>\n",
       "      <td>1</td>\n",
       "      <td>1</td>\n",
       "    </tr>\n",
       "    <tr>\n",
       "      <th>4</th>\n",
       "      <td>1</td>\n",
       "      <td>0</td>\n",
       "      <td>1999</td>\n",
       "      <td>27</td>\n",
       "      <td>Female</td>\n",
       "      <td>1</td>\n",
       "      <td>1</td>\n",
       "      <td>1</td>\n",
       "    </tr>\n",
       "  </tbody>\n",
       "</table>\n",
       "</div>"
      ],
      "text/plain": [
       "   released  colour  year  age     sex  employed  citizen  checks\n",
       "0         1       1  2002   21    Male         1        1       3\n",
       "1         0       0  1999   17    Male         1        1       3\n",
       "2         1       1  2000   24    Male         1        1       3\n",
       "3         0       0  2000   46    Male         1        1       1\n",
       "4         1       0  1999   27  Female         1        1       1"
      ]
     },
     "execution_count": 4,
     "metadata": {},
     "output_type": "execute_result"
    }
   ],
   "source": [
    "Arrests.head()"
   ]
  },
  {
   "cell_type": "code",
   "execution_count": 5,
   "metadata": {},
   "outputs": [],
   "source": [
    "{\n",
    " \"cells\": [\n",
    "  {\n",
    "   \"cell_type\": \"code\",\n",
    "   \"execution_count\": 2,\n",
    "   \"metadata\": {},\n",
    "   \"outputs\": [],\n",
    "   \"source\": [\n",
    "    \"import pandas as pd\\n\",\n",
    "    \"from matplotlib import pyplot as plt\\n\",\n",
    "    \"import numpy as np\\n\",\n",
    "    \"from sklearn.linear_model import LinearRegression\"\n",
    "   ]\n",
    "  },\n",
    "  {\n",
    "   \"cell_type\": \"markdown\",\n",
    "   \"metadata\": {},\n",
    "   \"source\": [\n",
    "    \"**Data Description**:\\n\",\n",
    "    \"\\n\",\n",
    "    \"For our project, we'll be working with a dataset compiled by The Toronto Star, a daily newspaper in Toronto, Canada. This dataset includes 5226 rows of entries on arrests for possession of small quantities of marijuana made between 1997 and 2002. The dataset include information on demographics like the race, sex, and previous arrest count of the person. In the table below, we can examine all of the columns. Colour (race), year, age, and sex are self-explanatory. Released refers to whether or not the person was released; employed, whether the person was employed at the time of their arrest; citizen, whether the person was a citizen; and checks, the number of previous arrests, convictions, and parole statuses on which the person was recorded. \\n\",\n",
    "    \"\\n\",\n",
    "    \"This dataset is only a subset of a larger collection of data collected by The Star, who collected data even beyond 2002 through 2013. In 2017, The Star published [an article](https://www.thestar.com/news/insight/2017/07/07/27000-torontonians-were-arrested-for-marijuana-possession-in-a-decade-what-will-happen-to-them.html) highlighting the disproportionate number of Black people who were arrested between 2003 and 2013. Unfortunately, this larger dataset is not available to the public; nonetheless, we hope to work with the older set of data to reveal trends between an individual's race, gender, and age and their criminal history.\\n\",\n",
    "    \"\\n\",\n",
    "    \"With a journalistic organization behind this data collection, we have more faith in the accuracy of the data. A nonpartisan organization like a newspaper is motivated by the sheer collection and parsing of information — for this reason, we tend to trust that the data provided is as comprehensive as possible given their means. \\n\",\n",
    "    \"\\n\",\n",
    "    \"Beyond The Star's article, however, there isn't much background information on the particular subset of data we intend to examine. A lot of Googling has revealed little beyond minimal information clarifying the meanings of the column names. One interesting tidbit we uncovered is that when someone is arrested for small-quantity marijuana possession for the *first* time, they often walk away with an unconditional release or a donation to charity. This is one thing to keep in mind when evaluating this dataset — unlike in the U.S., where marijuana possession is a serious federal offence that can lead to many years of imprisonment\"\n",
    "   ]\n",
    "  },\n",
    "  {\n",
    "   \"cell_type\": \"code\",\n",
    "   \"execution_count\": 3,\n",
    "   \"metadata\": {},\n",
    "   \"outputs\": [],\n",
    "   \"source\": [\n",
    "    \"Arrests = pd.read_csv(\\\"Arrests.csv\\\")\\n\",\n",
    "    \"Arrests = Arrests.drop(\\\"Unnamed: 0\\\", axis = 1)\"\n",
    "   ]\n",
    "  },\n",
    "  {\n",
    "   \"cell_type\": \"code\",\n",
    "   \"execution_count\": 4,\n",
    "   \"metadata\": {},\n",
    "   \"outputs\": [],\n",
    "   \"source\": [\n",
    "    \"Catcolumns = [\\\"released\\\", 'employed', 'citizen']\\n\",\n",
    "    \"for Column in Catcolumns:\\n\",\n",
    "    \"    Arrests[Column] = Arrests[Column].map(dict(Yes=1, No=0))\\n\",\n",
    "    \"Arrests[\\\"colour\\\"] = Arrests[\\\"colour\\\"].map(dict(White=1, Black=0))\"\n",
    "   ]\n",
    "  },\n",
    "  {\n",
    "   \"cell_type\": \"code\",\n",
    "   \"execution_count\": 5,\n",
    "   \"metadata\": {},\n",
    "   \"outputs\": [\n",
    "    {\n",
    "     \"data\": {\n",
    "      \"text/html\": [\n",
    "       \"<div>\\n\",\n",
    "       \"<style scoped>\\n\",\n",
    "       \"    .dataframe tbody tr th:only-of-type {\\n\",\n",
    "       \"        vertical-align: middle;\\n\",\n",
    "       \"    }\\n\",\n",
    "       \"\\n\",\n",
    "       \"    .dataframe tbody tr th {\\n\",\n",
    "       \"        vertical-align: top;\\n\",\n",
    "       \"    }\\n\",\n",
    "       \"\\n\",\n",
    "       \"    .dataframe thead th {\\n\",\n",
    "       \"        text-align: right;\\n\",\n",
    "       \"    }\\n\",\n",
    "       \"</style>\\n\",\n",
    "       \"<table border=\\\"1\\\" class=\\\"dataframe\\\">\\n\",\n",
    "       \"  <thead>\\n\",\n",
    "       \"    <tr style=\\\"text-align: right;\\\">\\n\",\n",
    "       \"      <th></th>\\n\",\n",
    "       \"      <th>released</th>\\n\",\n",
    "       \"      <th>colour</th>\\n\",\n",
    "       \"      <th>year</th>\\n\",\n",
    "       \"      <th>age</th>\\n\",\n",
    "       \"      <th>sex</th>\\n\",\n",
    "       \"      <th>employed</th>\\n\",\n",
    "       \"      <th>citizen</th>\\n\",\n",
    "       \"      <th>checks</th>\\n\",\n",
    "       \"    </tr>\\n\",\n",
    "       \"  </thead>\\n\",\n",
    "       \"  <tbody>\\n\",\n",
    "       \"    <tr>\\n\",\n",
    "       \"      <th>0</th>\\n\",\n",
    "       \"      <td>1</td>\\n\",\n",
    "       \"      <td>1</td>\\n\",\n",
    "       \"      <td>2002</td>\\n\",\n",
    "       \"      <td>21</td>\\n\",\n",
    "       \"      <td>Male</td>\\n\",\n",
    "       \"      <td>1</td>\\n\",\n",
    "       \"      <td>1</td>\\n\",\n",
    "       \"      <td>3</td>\\n\",\n",
    "       \"    </tr>\\n\",\n",
    "       \"    <tr>\\n\",\n",
    "       \"      <th>1</th>\\n\",\n",
    "       \"      <td>0</td>\\n\",\n",
    "       \"      <td>0</td>\\n\",\n",
    "       \"      <td>1999</td>\\n\",\n",
    "       \"      <td>17</td>\\n\",\n",
    "       \"      <td>Male</td>\\n\",\n",
    "       \"      <td>1</td>\\n\",\n",
    "       \"      <td>1</td>\\n\",\n",
    "       \"      <td>3</td>\\n\",\n",
    "       \"    </tr>\\n\",\n",
    "       \"    <tr>\\n\",\n",
    "       \"      <th>2</th>\\n\",\n",
    "       \"      <td>1</td>\\n\",\n",
    "       \"      <td>1</td>\\n\",\n",
    "       \"      <td>2000</td>\\n\",\n",
    "       \"      <td>24</td>\\n\",\n",
    "       \"      <td>Male</td>\\n\",\n",
    "       \"      <td>1</td>\\n\",\n",
    "       \"      <td>1</td>\\n\",\n",
    "       \"      <td>3</td>\\n\",\n",
    "       \"    </tr>\\n\",\n",
    "       \"    <tr>\\n\",\n",
    "       \"      <th>3</th>\\n\",\n",
    "       \"      <td>0</td>\\n\",\n",
    "       \"      <td>0</td>\\n\",\n",
    "       \"      <td>2000</td>\\n\",\n",
    "       \"      <td>46</td>\\n\",\n",
    "       \"      <td>Male</td>\\n\",\n",
    "       \"      <td>1</td>\\n\",\n",
    "       \"      <td>1</td>\\n\",\n",
    "       \"      <td>1</td>\\n\",\n",
    "       \"    </tr>\\n\",\n",
    "       \"    <tr>\\n\",\n",
    "       \"      <th>4</th>\\n\",\n",
    "       \"      <td>1</td>\\n\",\n",
    "       \"      <td>0</td>\\n\",\n",
    "       \"      <td>1999</td>\\n\",\n",
    "       \"      <td>27</td>\\n\",\n",
    "       \"      <td>Female</td>\\n\",\n",
    "       \"      <td>1</td>\\n\",\n",
    "       \"      <td>1</td>\\n\",\n",
    "       \"      <td>1</td>\\n\",\n",
    "       \"    </tr>\\n\",\n",
    "       \"  </tbody>\\n\",\n",
    "       \"</table>\\n\",\n",
    "       \"</div>\"\n",
    "      ],\n",
    "      \"text/plain\": [\n",
    "       \"   released  colour  year  age     sex  employed  citizen  checks\\n\",\n",
    "       \"0         1       1  2002   21    Male         1        1       3\\n\",\n",
    "       \"1         0       0  1999   17    Male         1        1       3\\n\",\n",
    "       \"2         1       1  2000   24    Male         1        1       3\\n\",\n",
    "       \"3         0       0  2000   46    Male         1        1       1\\n\",\n",
    "       \"4         1       0  1999   27  Female         1        1       1\"\n",
    "      ]\n",
    "     },\n",
    "     \"execution_count\": 5,\n",
    "     \"metadata\": {},\n",
    "     \"output_type\": \"execute_result\"\n",
    "    }\n",
    "   ],\n",
    "   \"source\": [\n",
    "    \"Arrests.head()\"\n",
    "   ]\n",
    "  },\n",
    "  {\n",
    "   \"cell_type\": \"code\",\n",
    "   \"execution_count\": 6,\n",
    "   \"metadata\": {},\n",
    "   \"outputs\": [],\n",
    "   \"source\": [\n",
    "    \"ArrestsWhite = Arrests [ Arrests[\\\"colour\\\"] == 1]\\n\",\n",
    "    \"ArrestsBlack = Arrests [ Arrests[\\\"colour\\\"] == 0]\"\n",
    "   ]\n",
    "  },\n",
    "  {\n",
    "   \"cell_type\": \"code\",\n",
    "   \"execution_count\": 7,\n",
    "   \"metadata\": {},\n",
    "   \"outputs\": [\n",
    "    {\n",
    "     \"data\": {\n",
    "      \"image/png\": \"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\\n\",\n",
    "      \"text/plain\": [\n",
    "       \"<Figure size 432x288 with 1 Axes>\"\n",
    "      ]\n",
    "     },\n",
    "     \"metadata\": {\n",
    "      \"needs_background\": \"light\"\n",
    "     },\n",
    "     \"output_type\": \"display_data\"\n",
    "    },\n",
    "    {\n",
    "     \"data\": {\n",
    "      \"image/png\": \"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\\n\",\n",
    "      \"text/plain\": [\n",
    "       \"<Figure size 432x288 with 1 Axes>\"\n",
    "      ]\n",
    "     },\n",
    "     \"metadata\": {\n",
    "      \"needs_background\": \"light\"\n",
    "     },\n",
    "     \"output_type\": \"display_data\"\n",
    "    }\n",
    "   ],\n",
    "   \"source\": [\n",
    "    \"plt.hist(ArrestsWhite['released'], bins = 2)\\n\",\n",
    "    \"plt.show()\\n\",\n",
    "    \"plt.hist(ArrestsBlack['released'], bins = 2)\\n\",\n",
    "    \"plt.show()\"\n",
    "   ]\n",
    "  },\n",
    "  {\n",
    "   \"cell_type\": \"code\",\n",
    "   \"execution_count\": 8,\n",
    "   \"metadata\": {},\n",
    "   \"outputs\": [\n",
    "    {\n",
    "     \"data\": {\n",
    "      \"text/plain\": [\n",
    "       \"array([0.11659014])\"\n",
    "      ]\n",
    "     },\n",
    "     \"execution_count\": 8,\n",
    "     \"metadata\": {},\n",
    "     \"output_type\": \"execute_result\"\n",
    "    }\n",
    "   ],\n",
    "   \"source\": [\n",
    "    \"race_model = LinearRegression().fit(Arrests[[\\\"colour\\\"]], Arrests[\\\"released\\\"])\\n\",\n",
    "    \"race_model.coef_\"\n",
    "   ]\n",
    "  },\n",
    "  {\n",
    "   \"cell_type\": \"code\",\n",
    "   \"execution_count\": 9,\n",
    "   \"metadata\": {},\n",
    "   \"outputs\": [],\n",
    "   \"source\": [\n",
    "    \"check_model = LinearRegression().fit(Arrests[[\\\"colour\\\"]], Arrests[\\\"checks\\\"])\"\n",
    "   ]\n",
    "  },\n",
    "  {\n",
    "   \"cell_type\": \"code\",\n",
    "   \"execution_count\": 10,\n",
    "   \"metadata\": {},\n",
    "   \"outputs\": [],\n",
    "   \"source\": [\n",
    "    \"checkrelease_model = LinearRegression().fit(Arrests[[\\\"checks\\\"]], Arrests[\\\"released\\\"])\"\n",
    "   ]\n",
    "  },\n",
    "  {\n",
    "   \"cell_type\": \"code\",\n",
    "   \"execution_count\": 11,\n",
    "   \"metadata\": {},\n",
    "   \"outputs\": [\n",
    "    {\n",
    "     \"data\": {\n",
    "      \"text/plain\": [\n",
    "       \"array([-0.61436111])\"\n",
    "      ]\n",
    "     },\n",
    "     \"execution_count\": 11,\n",
    "     \"metadata\": {},\n",
    "     \"output_type\": \"execute_result\"\n",
    "    }\n",
    "   ],\n",
    "   \"source\": [\n",
    "    \"check_model.coef_\"\n",
    "   ]\n",
    "  },\n",
    "  {\n",
    "   \"cell_type\": \"code\",\n",
    "   \"execution_count\": 12,\n",
    "   \"metadata\": {},\n",
    "   \"outputs\": [\n",
    "    {\n",
    "     \"data\": {\n",
    "      \"text/plain\": [\n",
    "       \"array([-0.06101365])\"\n",
    "      ]\n",
    "     },\n",
    "     \"execution_count\": 12,\n",
    "     \"metadata\": {},\n",
    "     \"output_type\": \"execute_result\"\n",
    "    }\n",
    "   ],\n",
    "   \"source\": [\n",
    "    \"checkrelease_model.coef_\"\n",
    "   ]\n",
    "  },\n",
    "  {\n",
    "   \"cell_type\": \"code\",\n",
    "   \"execution_count\": 13,\n",
    "   \"metadata\": {},\n",
    "   \"outputs\": [\n",
    "    {\n",
    "     \"name\": \"stdout\",\n",
    "     \"output_type\": \"stream\",\n",
    "     \"text\": [\n",
    "      \"Mean # of Checks for Black Arrests 2.099378881987578\\n\",\n",
    "      \"Mean # of Checks for White Arrests 1.485017775520569\\n\"\n",
    "     ]\n",
    "    }\n",
    "   ],\n",
    "   \"source\": [\n",
    "    \"print(f'Mean # of Checks for Black Arrests {ArrestsBlack[\\\"checks\\\"].mean()}')\\n\",\n",
    "    \"print(f'Mean # of Checks for White Arrests {ArrestsWhite[\\\"checks\\\"].mean()}')      \"\n",
    "   ]\n",
    "  },\n",
    "  {\n",
    "   \"cell_type\": \"code\",\n",
    "   \"execution_count\": 28,\n",
    "   \"metadata\": {},\n",
    "   \"outputs\": [],\n",
    "   \"source\": [\n",
    "    \"whiteCount = ArrestsWhite.groupby([\\\"year\\\"]).count()\\n\",\n",
    "    \"blackCount = ArrestsBlack.groupby([\\\"year\\\"]).count()\"\n",
    "   ]\n",
    "  },\n",
    "  {\n",
    "   \"cell_type\": \"code\",\n",
    "   \"execution_count\": 29,\n",
    "   \"metadata\": {},\n",
    "   \"outputs\": [\n",
    "    {\n",
    "     \"data\": {\n",
    "      \"text/html\": [\n",
    "       \"<div>\\n\",\n",
    "       \"<style scoped>\\n\",\n",
    "       \"    .dataframe tbody tr th:only-of-type {\\n\",\n",
    "       \"        vertical-align: middle;\\n\",\n",
    "       \"    }\\n\",\n",
    "       \"\\n\",\n",
    "       \"    .dataframe tbody tr th {\\n\",\n",
    "       \"        vertical-align: top;\\n\",\n",
    "       \"    }\\n\",\n",
    "       \"\\n\",\n",
    "       \"    .dataframe thead th {\\n\",\n",
    "       \"        text-align: right;\\n\",\n",
    "       \"    }\\n\",\n",
    "       \"</style>\\n\",\n",
    "       \"<table border=\\\"1\\\" class=\\\"dataframe\\\">\\n\",\n",
    "       \"  <thead>\\n\",\n",
    "       \"    <tr style=\\\"text-align: right;\\\">\\n\",\n",
    "       \"      <th></th>\\n\",\n",
    "       \"      <th>released</th>\\n\",\n",
    "       \"      <th>colour</th>\\n\",\n",
    "       \"      <th>age</th>\\n\",\n",
    "       \"      <th>sex</th>\\n\",\n",
    "       \"      <th>employed</th>\\n\",\n",
    "       \"      <th>citizen</th>\\n\",\n",
    "       \"      <th>checks</th>\\n\",\n",
    "       \"    </tr>\\n\",\n",
    "       \"    <tr>\\n\",\n",
    "       \"      <th>year</th>\\n\",\n",
    "       \"      <th></th>\\n\",\n",
    "       \"      <th></th>\\n\",\n",
    "       \"      <th></th>\\n\",\n",
    "       \"      <th></th>\\n\",\n",
    "       \"      <th></th>\\n\",\n",
    "       \"      <th></th>\\n\",\n",
    "       \"      <th></th>\\n\",\n",
    "       \"    </tr>\\n\",\n",
    "       \"  </thead>\\n\",\n",
    "       \"  <tbody>\\n\",\n",
    "       \"    <tr>\\n\",\n",
    "       \"      <th>1997</th>\\n\",\n",
    "       \"      <td>369</td>\\n\",\n",
    "       \"      <td>369</td>\\n\",\n",
    "       \"      <td>369</td>\\n\",\n",
    "       \"      <td>369</td>\\n\",\n",
    "       \"      <td>369</td>\\n\",\n",
    "       \"      <td>369</td>\\n\",\n",
    "       \"      <td>369</td>\\n\",\n",
    "       \"    </tr>\\n\",\n",
    "       \"    <tr>\\n\",\n",
    "       \"      <th>1998</th>\\n\",\n",
    "       \"      <td>637</td>\\n\",\n",
    "       \"      <td>637</td>\\n\",\n",
    "       \"      <td>637</td>\\n\",\n",
    "       \"      <td>637</td>\\n\",\n",
    "       \"      <td>637</td>\\n\",\n",
    "       \"      <td>637</td>\\n\",\n",
    "       \"      <td>637</td>\\n\",\n",
    "       \"    </tr>\\n\",\n",
    "       \"    <tr>\\n\",\n",
    "       \"      <th>1999</th>\\n\",\n",
    "       \"      <td>849</td>\\n\",\n",
    "       \"      <td>849</td>\\n\",\n",
    "       \"      <td>849</td>\\n\",\n",
    "       \"      <td>849</td>\\n\",\n",
    "       \"      <td>849</td>\\n\",\n",
    "       \"      <td>849</td>\\n\",\n",
    "       \"      <td>849</td>\\n\",\n",
    "       \"    </tr>\\n\",\n",
    "       \"    <tr>\\n\",\n",
    "       \"      <th>2000</th>\\n\",\n",
    "       \"      <td>991</td>\\n\",\n",
    "       \"      <td>991</td>\\n\",\n",
    "       \"      <td>991</td>\\n\",\n",
    "       \"      <td>991</td>\\n\",\n",
    "       \"      <td>991</td>\\n\",\n",
    "       \"      <td>991</td>\\n\",\n",
    "       \"      <td>991</td>\\n\",\n",
    "       \"    </tr>\\n\",\n",
    "       \"    <tr>\\n\",\n",
    "       \"      <th>2001</th>\\n\",\n",
    "       \"      <td>900</td>\\n\",\n",
    "       \"      <td>900</td>\\n\",\n",
    "       \"      <td>900</td>\\n\",\n",
    "       \"      <td>900</td>\\n\",\n",
    "       \"      <td>900</td>\\n\",\n",
    "       \"      <td>900</td>\\n\",\n",
    "       \"      <td>900</td>\\n\",\n",
    "       \"    </tr>\\n\",\n",
    "       \"    <tr>\\n\",\n",
    "       \"      <th>2002</th>\\n\",\n",
    "       \"      <td>192</td>\\n\",\n",
    "       \"      <td>192</td>\\n\",\n",
    "       \"      <td>192</td>\\n\",\n",
    "       \"      <td>192</td>\\n\",\n",
    "       \"      <td>192</td>\\n\",\n",
    "       \"      <td>192</td>\\n\",\n",
    "       \"      <td>192</td>\\n\",\n",
    "       \"    </tr>\\n\",\n",
    "       \"  </tbody>\\n\",\n",
    "       \"</table>\\n\",\n",
    "       \"</div>\"\n",
    "      ],\n",
    "      \"text/plain\": [\n",
    "       \"      released  colour  age  sex  employed  citizen  checks\\n\",\n",
    "       \"year                                                       \\n\",\n",
    "       \"1997       369     369  369  369       369      369     369\\n\",\n",
    "       \"1998       637     637  637  637       637      637     637\\n\",\n",
    "       \"1999       849     849  849  849       849      849     849\\n\",\n",
    "       \"2000       991     991  991  991       991      991     991\\n\",\n",
    "       \"2001       900     900  900  900       900      900     900\\n\",\n",
    "       \"2002       192     192  192  192       192      192     192\"\n",
    "      ]\n",
    "     },\n",
    "     \"execution_count\": 29,\n",
    "     \"metadata\": {},\n",
    "     \"output_type\": \"execute_result\"\n",
    "    }\n",
    "   ],\n",
    "   \"source\": [\n",
    "    \"whiteCount\"\n",
    "   ]\n",
    "  },\n",
    "  {\n",
    "   \"cell_type\": \"code\",\n",
    "   \"execution_count\": 45,\n",
    "   \"metadata\": {},\n",
    "   \"outputs\": [\n",
    "    {\n",
    "     \"data\": {\n",
    "      \"image/png\": \"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\\n\",\n",
    "      \"text/plain\": [\n",
    "       \"<Figure size 432x288 with 1 Axes>\"\n",
    "      ]\n",
    "     },\n",
    "     \"metadata\": {\n",
    "      \"needs_background\": \"light\"\n",
    "     },\n",
    "     \"output_type\": \"display_data\"\n",
    "    }\n",
    "   ],\n",
    "   \"source\": [\n",
    "    \"plt.plot(whiteCount.index, whiteCount[\\\"released\\\"], label = \\\"White Arrests\\\")\\n\",\n",
    "    \"plt.plot(blackCount.index, blackCount[\\\"released\\\"], Label = \\\"Black Arrests\\\")\\n\",\n",
    "    \"plt.xlabel(\\\"Year\\\")\\n\",\n",
    "    \"plt.ylabel(\\\"Number of Arrests\\\")\\n\",\n",
    "    \"plt.legend()\\n\",\n",
    "    \"plt.show()\"\n",
    "   ]\n",
    "  },\n",
    "  {\n",
    "   \"cell_type\": \"markdown\",\n",
    "   \"metadata\": {},\n",
    "   \"source\": [\n",
    "    \"**Potential discrepancies in the data**:\\n\",\n",
    "    \"\\n\",\n",
    "    \"The primary speed bump we noticed when looking through this data was that there seemed to be far fewer arrests in 2002. At first glance, this might suggest that in 2002 a legal change or something else in the environment changed criminal policies for marijuana possession; however, it may be more reasonable to assume that the data is simply incomplete. This could be a result of the data collectors stopping collection mid-2002. This is the most likely reason, as our background research revealed that the rest of the data collected by The Star started in 2003, suggesting there may have been a gap in collection between 2002 and 2003. This could potentially cause trouble if we were to conduct an analysis by year. However, since our questions is more focused on the trends between demographic factors and not progress over time, this gap in data probably won't impact us to much. \\n\",\n",
    "    \"\\n\",\n",
    "    \"Another flaw of this data is that it fails to have data on racial identites beyond White and Black. Although the demographic population of Toronto was not *super* diverse in the 2000s, White and Black people respectively represented roughly 50% and 8% of Toronto's population in the early 2000s. Toronto is also home to significant South Asian and Chinese groups as well. It's possible that arrests for people from these groups were excluded from the final dataset because of how few there were — historically, these groups have lower crime and arrest rates than White and Black populations, suggesting that there were so few marijuana-related arrests during this time period that the publishers chose to omit them.\"\n",
    "   ]\n",
    "  },\n",
    "  {\n",
    "   \"cell_type\": \"code\",\n",
    "   \"execution_count\": null,\n",
    "   \"metadata\": {},\n",
    "   \"outputs\": [],\n",
    "   \"source\": []\n",
    "  }\n",
    " ],\n",
    " \"metadata\": {\n",
    "  \"kernelspec\": {\n",
    "   \"display_name\": \"Python 3\",\n",
    "   \"language\": \"python\",\n",
    "   \"name\": \"python3\"\n",
    "  },\n",
    "  \"language_info\": {\n",
    "   \"codemirror_mode\": {\n",
    "    \"name\": \"ipython\",\n",
    "    \"version\": 3\n",
    "   },\n",
    "   \"file_extension\": \".py\",\n",
    "   \"mimetype\": \"text/x-python\",\n",
    "   \"name\": \"python\",\n",
    "   \"nbconvert_exporter\": \"python\",\n",
    "   \"pygments_lexer\": \"ipython3\",\n",
    "   \"version\": \"3.7.6\"\n",
    "  }\n",
    " },\n",
    " \"nbformat\": 4,\n",
    " \"nbformat_minor\": 2\n",
    "}\n",
    "ArrestsWhite = Arrests [ Arrests[\"colour\"] == 1]\n",
    "ArrestsBlack = Arrests [ Arrests[\"colour\"] == 0]"
   ]
  },
  {
   "cell_type": "code",
   "execution_count": 6,
   "metadata": {},
   "outputs": [
    {
     "data": {
      "image/png": "[encoded data removed]",
      "text/plain": [
       "<Figure size 432x288 with 1 Axes>"
      ]
     },
     "metadata": {
      "needs_background": "light"
     },
     "output_type": "display_data"
    },
    {
     "data": {
      "image/png": "[encoded data removed]",
      "text/plain": [
       "<Figure size 432x288 with 1 Axes>"
      ]
     },
     "metadata": {
      "needs_background": "light"
     },
     "output_type": "display_data"
    }
   ],
   "source": [
    "plt.hist(ArrestsWhite['released'], bins = 2)\n",
    "plt.show()\n",
    "plt.hist(ArrestsBlack['released'], bins = 2)\n",
    "plt.show()"
   ]
  },
  {
   "cell_type": "code",
   "execution_count": 7,
   "metadata": {},
   "outputs": [
    {
     "data": {
      "text/plain": [
       "array([0.11659014])"
      ]
     },
     "execution_count": 7,
     "metadata": {},
     "output_type": "execute_result"
    }
   ],
   "source": [
    "race_model = LinearRegression().fit(Arrests[[\"colour\"]], Arrests[\"released\"])\n",
    "race_model.coef_"
   ]
  },
  {
   "cell_type": "code",
   "execution_count": 8,
   "metadata": {},
   "outputs": [],
   "source": [
    "check_model = LinearRegression().fit(Arrests[[\"colour\"]], Arrests[\"checks\"])"
   ]
  },
  {
   "cell_type": "code",
   "execution_count": 9,
   "metadata": {},
   "outputs": [],
   "source": [
    "checkrelease_model = LinearRegression().fit(Arrests[[\"checks\"]], Arrests[\"released\"])"
   ]
  },
  {
   "cell_type": "code",
   "execution_count": 10,
   "metadata": {},
   "outputs": [
    {
     "data": {
      "text/plain": [
       "array([-0.61436111])"
      ]
     },
     "execution_count": 10,
     "metadata": {},
     "output_type": "execute_result"
    }
   ],
   "source": [
    "check_model.coef_"
   ]
  },
  {
   "cell_type": "code",
   "execution_count": 11,
   "metadata": {},
   "outputs": [
    {
     "data": {
      "text/plain": [
       "array([-0.06101365])"
      ]
     },
     "execution_count": 11,
     "metadata": {},
     "output_type": "execute_result"
    }
   ],
   "source": [
    "checkrelease_model.coef_"
   ]
  },
  {
   "cell_type": "code",
   "execution_count": 12,
   "metadata": {},
   "outputs": [
    {
     "name": "stdout",
     "output_type": "stream",
     "text": [
      "Mean # of Checks for Black Arrests 2.099378881987578\n",
      "Mean # of Checks for White Arrests 1.485017775520569\n"
     ]
    }
   ],
   "source": [
    "print(f'Mean # of Checks for Black Arrests {ArrestsBlack[\"checks\"].mean()}')\n",
    "print(f'Mean # of Checks for White Arrests {ArrestsWhite[\"checks\"].mean()}')      "
   ]
  },
  {
   "cell_type": "code",
   "execution_count": 13,
   "metadata": {},
   "outputs": [],
   "source": [
    "whiteCount = ArrestsWhite.groupby([\"year\"]).count()\n",
    "blackCount = ArrestsBlack.groupby([\"year\"]).count()"
   ]
  },
  {
   "cell_type": "code",
   "execution_count": 161,
   "metadata": {},
   "outputs": [
    {
     "data": {
      "image/png": "[encoded data removed]",
      "text/plain": [
       "<Figure size 432x288 with 1 Axes>"
      ]
     },
     "metadata": {
      "needs_background": "light"
     },
     "output_type": "display_data"
    }
   ],
   "source": [
    "plt.plot(whiteCount.index, whiteCount[\"released\"], label = \"White Arrests\")\n",
    "plt.plot(blackCount.index, blackCount[\"released\"], Label = \"Black Arrests\")\n",
    "plt.xlabel(\"Year\")\n",
    "plt.ylabel(\"Number of Arrests\")\n",
    "plt.title(\"Number of Arrests and Race\")\n",
    "plt.legend()\n",
    "plt.show()"
   ]
  },
  {
   "cell_type": "code",
   "execution_count": 27,
   "metadata": {},
   "outputs": [],
   "source": [
    "whiteYearSum = ArrestsWhite.groupby([\"year\"]).sum()\n",
    "blackYearSum = ArrestsBlack.groupby([\"year\"]).sum()"
   ]
  },
  {
   "cell_type": "code",
   "execution_count": 40,
   "metadata": {},
   "outputs": [],
   "source": [
    "whiteYearSum[\"totinstance\"] = whiteCount[\"age\"]\n",
    "blackYearSum[\"totinstance\"] = blackCount[\"age\"]\n",
    "whiteYearSum[\"releasefrequency\"] = (whiteYearSum[\"released\"]/whiteYearSum[\"totinstance\"])\n",
    "blackYearSum[\"releasefrequency\"] = (blackYearSum[\"released\"]/blackYearSum[\"totinstance\"])"
   ]
  },
  {
   "cell_type": "code",
   "execution_count": 160,
   "metadata": {},
   "outputs": [
    {
     "data": {
      "image/png": "[encoded data removed]",
      "text/plain": [
       "<Figure size 432x288 with 1 Axes>"
      ]
     },
     "metadata": {
      "needs_background": "light"
     },
     "output_type": "display_data"
    }
   ],
   "source": [
    "plt.plot(whiteYearSum.index, whiteYearSum[\"releasefrequency\"], label = \"White Release Frequency\")\n",
    "plt.plot(blackYearSum.index, blackYearSum[\"releasefrequency\"], Label = \"Black Release Frequency\")\n",
    "plt.xlabel(\"Year\")\n",
    "plt.ylabel(\"Release Frequency\")\n",
    "plt.title(\"Release Frequency and Race\")\n",
    "plt.legend()\n",
    "plt.show()"
   ]
  },
  {
   "cell_type": "code",
   "execution_count": 42,
   "metadata": {},
   "outputs": [],
   "source": [
    "ageCount = Arrests.groupby([\"age\"]).count()\n",
    "whiteAgeCount = ArrestsWhite.groupby([\"age\"]).count()\n",
    "blackAgeCount = ArrestsBlack.groupby([\"age\"]).count()"
   ]
  },
  {
   "cell_type": "code",
   "execution_count": 153,
   "metadata": {},
   "outputs": [
    {
     "data": {
      "image/png": "[encoded data removed]",
      "text/plain": [
       "<Figure size 432x288 with 1 Axes>"
      ]
     },
     "metadata": {
      "needs_background": "light"
     },
     "output_type": "display_data"
    }
   ],
   "source": [
    "plt.plot(ageCount.index, ageCount[\"released\"], label = \"Total\")\n",
    "plt.plot(blackAgeCount.index, blackAgeCount[\"released\"], Label = \"Black/Age\")\n",
    "plt.plot(whiteAgeCount.index, whiteAgeCount[\"released\"], Label = \"White/Age\")\n",
    "plt.xlabel(\"Age\")\n",
    "plt.ylabel(\"# Instances\")\n",
    "plt.title(\"Number of Releases v. Age\")\n",
    "plt.legend()\n",
    "plt.show()"
   ]
  },
  {
   "cell_type": "code",
   "execution_count": null,
   "metadata": {},
   "outputs": [],
   "source": [
    "plt.plot(blackAgeCount.index, blackAgeCount[\"released\"], Label = \"Black/Age\")\n",
    "plt.plot(whiteAgeCount.index, whiteAgeCount[\"released\"], Label = \"White/Age\")\n",
    "plt.xlabel(\"Age\")\n",
    "plt.ylabel(\"#Instances\")\n",
    "plt.legend()\n",
    "plt.show()"
   ]
  },
  {
   "cell_type": "code",
   "execution_count": 50,
   "metadata": {},
   "outputs": [],
   "source": [
    "genderCount = Arrests.groupby([\"sex\"]).count()\n",
    "maleCount = ArrestsWhite.groupby([\"sex\"]).count()\n",
    "femaleCount = ArrestsBlack.groupby([\"sex\"]).count()"
   ]
  },
  {
   "cell_type": "code",
   "execution_count": 54,
   "metadata": {},
   "outputs": [],
   "source": [
    "Arrests[\"sex\"] = Arrests[\"sex\"].map(dict(Male=1, Female=0))"
   ]
  },
  {
   "cell_type": "code",
   "execution_count": 86,
   "metadata": {},
   "outputs": [],
   "source": [
    "year_list = [1997,1998,1999,2000,2001,2002]\n",
    "male_year_avg = []\n",
    "female_year_avg = []\n",
    "for year in year_list:\n",
    "    male_r = 0\n",
    "    male_u = 0\n",
    "    female_r = 0\n",
    "    female_u = 0\n",
    "    for x in range(len(Arrests [ Arrests[\"year\"] == year ])):\n",
    "        if Arrests[\"sex\"][x] == 1:\n",
    "            if Arrests[\"released\"][x] == 1:\n",
    "                male_r += 1\n",
    "            elif Arrests[\"released\"][x] == 0:\n",
    "                male_u += 1\n",
    "        elif Arrests[\"sex\"][x] == 0:\n",
    "            if Arrests[\"released\"][x] == 1:\n",
    "                female_r += 1\n",
    "            elif Arrests[\"released\"][x] == 0:\n",
    "                female_u += 1\n",
    "    male_year_avg.append(male_r/(male_r+male_u))\n",
    "    female_year_avg.append(female_r/(female_r+female_u))\n",
    "                \n",
    "    "
   ]
  },
  {
   "cell_type": "code",
   "execution_count": 159,
   "metadata": {},
   "outputs": [
    {
     "data": {
      "image/png": "[encoded data removed]",
      "text/plain": [
       "<Figure size 432x288 with 1 Axes>"
      ]
     },
     "metadata": {
      "needs_background": "light"
     },
     "output_type": "display_data"
    }
   ],
   "source": [
    "plt.plot(year_list, male_year_avg, Label = \"Male\")\n",
    "plt.plot(year_list, female_year_avg, Label = \"Female\")\n",
    "plt.xlabel(\"Year\")\n",
    "plt.ylabel(\"Proportion of Releases\")\n",
    "plt.title(\"Proportion of Releases and Gender\")\n",
    "plt.legend()\n",
    "plt.show()"
   ]
  },
  {
   "cell_type": "code",
   "execution_count": 111,
   "metadata": {},
   "outputs": [],
   "source": [
    "year_list = [1997,1998,1999,2000,2001,2002]\n",
    "Citizen_avg = []\n",
    "Noncitizen_avg = []\n",
    "for year in year_list:\n",
    "    citizen_r = 0\n",
    "    citizen_u = 0\n",
    "    noncitizen_r = 0\n",
    "    noncitizen_u = 0\n",
    "    for x in range(len(Arrests [ Arrests[\"year\"] == year ])):\n",
    "        if Arrests[\"citizen\"][x] == 1:\n",
    "            if Arrests[\"released\"][x] == 1:\n",
    "                citizen_r += 1\n",
    "            elif Arrests[\"released\"][x] == 0:\n",
    "                citizen_u += 1\n",
    "        elif Arrests[\"citizen\"][x] == 0:\n",
    "            if Arrests[\"released\"][x] == 1:\n",
    "                noncitizen_r += 1\n",
    "            elif Arrests[\"released\"][x] == 0:\n",
    "                noncitizen_u += 1\n",
    "    Citizen_avg.append(citizen_r/(citizen_r+citizen_u))\n",
    "    Noncitizen_avg.append(noncitizen_r/(noncitizen_r+noncitizen_u))"
   ]
  },
  {
   "cell_type": "code",
   "execution_count": 157,
   "metadata": {},
   "outputs": [
    {
     "data": {
      "image/png": "[encoded data removed]",
      "text/plain": [
       "<Figure size 432x288 with 1 Axes>"
      ]
     },
     "metadata": {
      "needs_background": "light"
     },
     "output_type": "display_data"
    }
   ],
   "source": [
    "plt.plot(year_list, Citizen_avg, Label = \"Citizen\")\n",
    "plt.plot(year_list, Noncitizen_avg, Label = \"Non-Citizen\")\n",
    "plt.xlabel(\"Year\")\n",
    "plt.ylabel(\"Proportion of Releases\")\n",
    "plt.title(\"Proportion of Releases and Citizen Status\")\n",
    "plt.legend()\n",
    "plt.show()"
   ]
  },
  {
   "cell_type": "code",
   "execution_count": 104,
   "metadata": {},
   "outputs": [],
   "source": [
    "year_list = [1997,1998,1999,2000,2001,2002]\n",
    "Employed_avg = []\n",
    "Unemployed_avg = []\n",
    "for year in year_list:\n",
    "    employ_r = 0\n",
    "    employ_u = 0\n",
    "    unemploy_r = 0\n",
    "    unemploy_u = 0\n",
    "    for x in range(len(Arrests [ Arrests[\"year\"] == year ])):\n",
    "        if Arrests[\"employed\"][x] == 1:\n",
    "            if Arrests[\"released\"][x] == 1:\n",
    "                employ_r += 1\n",
    "            elif Arrests[\"released\"][x] == 0:\n",
    "                employ_u += 1\n",
    "        elif Arrests[\"employed\"][x] == 0:\n",
    "            if Arrests[\"released\"][x] == 1:\n",
    "                unemploy_r += 1\n",
    "            elif Arrests[\"released\"][x] == 0:\n",
    "                unemploy_u += 1\n",
    "    Employed_avg.append(employ_r/(employ_r+employ_u))\n",
    "    Unemployed_avg.append(unemploy_r/(unemploy_r+unemploy_u))"
   ]
  },
  {
   "cell_type": "code",
   "execution_count": 163,
   "metadata": {},
   "outputs": [
    {
     "data": {
      "image/png": "[encoded data removed]",
      "text/plain": [
       "<Figure size 432x288 with 1 Axes>"
      ]
     },
     "metadata": {
      "needs_background": "light"
     },
     "output_type": "display_data"
    }
   ],
   "source": [
    "plt.plot(year_list, Employed_avg, Label = \"Employed\")\n",
    "plt.plot(year_list, Unemployed_avg, Label = \"Un-employed\")\n",
    "plt.xlabel(\"Year\")\n",
    "plt.ylabel(\"Proportion of Releases\")\n",
    "plt.title(\"Proportion of Releases and Employment Status\")\n",
    "plt.legend()\n",
    "plt.show()"
   ]
  },
  {
   "cell_type": "code",
   "execution_count": 138,
   "metadata": {},
   "outputs": [],
   "source": [
    "citizenEmployedModel = LinearRegression().fit(Arrests[[\"employed\", \"citizen\"]], Arrests[\"released\"])"
   ]
  },
  {
   "cell_type": "code",
   "execution_count": 148,
   "metadata": {},
   "outputs": [
    {
     "name": "stdout",
     "output_type": "stream",
     "text": [
      "[0.17368778 0.10660583]\n"
     ]
    }
   ],
   "source": [
    "print(citizenEmployedModel.coef_)"
   ]
  },
  {
   "cell_type": "code",
   "execution_count": 140,
   "metadata": {},
   "outputs": [],
   "source": [
    "citizenModel = LinearRegression().fit(Arrests[[\"citizen\"]], Arrests[\"released\"])\n",
    "employedModel = LinearRegression().fit(Arrests[[\"employed\"]], Arrests[\"released\"])"
   ]
  },
  {
   "cell_type": "code",
   "execution_count": 142,
   "metadata": {},
   "outputs": [
    {
     "name": "stdout",
     "output_type": "stream",
     "text": [
      "[0.12233009]\n",
      "[0.18091983]\n"
     ]
    }
   ],
   "source": [
    "print(citizenModel.coef_)\n",
    "print(employedModel.coef_)"
   ]
  },
  {
   "cell_type": "code",
   "execution_count": 146,
   "metadata": {},
   "outputs": [
    {
     "data": {
      "text/plain": [
       "array([[1.        , 0.07836839],\n",
       "       [0.07836839, 1.        ]])"
      ]
     },
     "execution_count": 146,
     "metadata": {},
     "output_type": "execute_result"
    }
   ],
   "source": [
    "np.corrcoef(Arrests[\"employed\"], Arrests[\"citizen\"])"
   ]
  },
  {
   "cell_type": "code",
   "execution_count": 147,
   "metadata": {},
   "outputs": [
    {
     "data": {
      "text/plain": [
       "array([[1.        , 0.19700193],\n",
       "       [0.19700193, 1.        ]])"
      ]
     },
     "execution_count": 147,
     "metadata": {},
     "output_type": "execute_result"
    }
   ],
   "source": [
    "np.corrcoef(Arrests[\"employed\"], Arrests[\"released\"])"
   ]
  },
  {
   "cell_type": "code",
   "execution_count": 149,
   "metadata": {},
   "outputs": [
    {
     "data": {
      "text/plain": [
       "array([[1.        , 0.11530747],\n",
       "       [0.11530747, 1.        ]])"
      ]
     },
     "execution_count": 149,
     "metadata": {},
     "output_type": "execute_result"
    }
   ],
   "source": [
    "np.corrcoef(Arrests[\"citizen\"], Arrests[\"released\"])"
   ]
  },
  {
   "cell_type": "code",
   "execution_count": null,
   "metadata": {},
   "outputs": [],
   "source": []
  }
 ],
 "metadata": {
  "kernelspec": {
   "display_name": "Python 3",
   "language": "python",
   "name": "python3"
  },
  "language_info": {
   "codemirror_mode": {
    "name": "ipython",
    "version": 3
   },
   "file_extension": ".py",
   "mimetype": "text/x-python",
   "name": "python",
   "nbconvert_exporter": "python",
   "pygments_lexer": "ipython3",
   "version": "3.7.6"
  }
 },
 "nbformat": 4,
 "nbformat_minor": 2
}
