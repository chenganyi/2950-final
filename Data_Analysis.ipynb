{
 "cells": [
  {
   "cell_type": "code",
   "execution_count": 2,
   "metadata": {},
   "outputs": [],
   "source": [
    "import pandas as pd\n",
    "from matplotlib import pyplot as plt\n",
    "import numpy as np\n",
    "from sklearn.linear_model import LinearRegression"
   ]
  },
  {
   "cell_type": "markdown",
   "metadata": {},
   "source": [
    "**Data Description**:\n",
    "\n",
    "For our project, we'll be working with a dataset compiled by The Toronto Star, a daily newspaper in Toronto, Canada. This dataset includes 5226 rows of entries on arrests for possession of small quantities of marijuana made between 1997 and 2002. The dataset include information on demographics like the race, sex, and previous arrest count of the person. In the table below, we can examine all of the columns. Colour (race), year, age, and sex are self-explanatory. Released refers to whether or not the person was released; employed, whether the person was employed at the time of their arrest; citizen, whether the person was a citizen; and checks, the number of previous arrests, convictions, and parole statuses on which the person was recorded. \n",
    "\n",
    "This dataset is only a subset of a larger collection of data collected by The Star, who collected data even beyond 2002 through 2013. In 2017, The Star published [an article](https://www.thestar.com/news/insight/2017/07/07/27000-torontonians-were-arrested-for-marijuana-possession-in-a-decade-what-will-happen-to-them.html) highlighting the disproportionate number of Black people who were arrested between 2003 and 2013. Unfortunately, this larger dataset is not available to the public; nonetheless, we hope to work with the older set of data to reveal trends between an individual's race, gender, and age and their criminal history.\n",
    "\n",
    "With a journalistic organization behind this data collection, we have more faith in the accuracy of the data. A nonpartisan organization like a newspaper is motivated by the sheer collection and parsing of information — for this reason, we tend to trust that the data provided is as comprehensive as possible given their means. \n",
    "\n",
    "Beyond The Star's article, however, there isn't much background information on the particular subset of data we intend to examine. A lot of Googling has revealed little beyond minimal information clarifying the meanings of the column names. One interesting tidbit we uncovered is that when someone is arrested for small-quantity marijuana possession for the *first* time, they often walk away with an unconditional release or a donation to charity. This is one thing to keep in mind when evaluating this dataset — unlike in the U.S., where marijuana possession is a serious federal offence that can lead to many years of imprisonment"
   ]
  },
  {
   "cell_type": "code",
   "execution_count": 3,
   "metadata": {},
   "outputs": [],
   "source": [
    "Arrests = pd.read_csv(\"Arrests.csv\")\n",
    "Arrests = Arrests.drop(\"Unnamed: 0\", axis = 1)"
   ]
  },
  {
   "cell_type": "code",
   "execution_count": 4,
   "metadata": {},
   "outputs": [],
   "source": [
    "Catcolumns = [\"released\", 'employed', 'citizen']\n",
    "for Column in Catcolumns:\n",
    "    Arrests[Column] = Arrests[Column].map(dict(Yes=1, No=0))\n",
    "Arrests[\"colour\"] = Arrests[\"colour\"].map(dict(White=1, Black=0))"
   ]
  },
  {
   "cell_type": "code",
   "execution_count": 5,
   "metadata": {},
   "outputs": [
    {
     "data": {
      "text/html": [
       "<div>\n",
       "<style scoped>\n",
       "    .dataframe tbody tr th:only-of-type {\n",
       "        vertical-align: middle;\n",
       "    }\n",
       "\n",
       "    .dataframe tbody tr th {\n",
       "        vertical-align: top;\n",
       "    }\n",
       "\n",
       "    .dataframe thead th {\n",
       "        text-align: right;\n",
       "    }\n",
       "</style>\n",
       "<table border=\"1\" class=\"dataframe\">\n",
       "  <thead>\n",
       "    <tr style=\"text-align: right;\">\n",
       "      <th></th>\n",
       "      <th>released</th>\n",
       "      <th>colour</th>\n",
       "      <th>year</th>\n",
       "      <th>age</th>\n",
       "      <th>sex</th>\n",
       "      <th>employed</th>\n",
       "      <th>citizen</th>\n",
       "      <th>checks</th>\n",
       "    </tr>\n",
       "  </thead>\n",
       "  <tbody>\n",
       "    <tr>\n",
       "      <th>0</th>\n",
       "      <td>1</td>\n",
       "      <td>1</td>\n",
       "      <td>2002</td>\n",
       "      <td>21</td>\n",
       "      <td>Male</td>\n",
       "      <td>1</td>\n",
       "      <td>1</td>\n",
       "      <td>3</td>\n",
       "    </tr>\n",
       "    <tr>\n",
       "      <th>1</th>\n",
       "      <td>0</td>\n",
       "      <td>0</td>\n",
       "      <td>1999</td>\n",
       "      <td>17</td>\n",
       "      <td>Male</td>\n",
       "      <td>1</td>\n",
       "      <td>1</td>\n",
       "      <td>3</td>\n",
       "    </tr>\n",
       "    <tr>\n",
       "      <th>2</th>\n",
       "      <td>1</td>\n",
       "      <td>1</td>\n",
       "      <td>2000</td>\n",
       "      <td>24</td>\n",
       "      <td>Male</td>\n",
       "      <td>1</td>\n",
       "      <td>1</td>\n",
       "      <td>3</td>\n",
       "    </tr>\n",
       "    <tr>\n",
       "      <th>3</th>\n",
       "      <td>0</td>\n",
       "      <td>0</td>\n",
       "      <td>2000</td>\n",
       "      <td>46</td>\n",
       "      <td>Male</td>\n",
       "      <td>1</td>\n",
       "      <td>1</td>\n",
       "      <td>1</td>\n",
       "    </tr>\n",
       "    <tr>\n",
       "      <th>4</th>\n",
       "      <td>1</td>\n",
       "      <td>0</td>\n",
       "      <td>1999</td>\n",
       "      <td>27</td>\n",
       "      <td>Female</td>\n",
       "      <td>1</td>\n",
       "      <td>1</td>\n",
       "      <td>1</td>\n",
       "    </tr>\n",
       "  </tbody>\n",
       "</table>\n",
       "</div>"
      ],
      "text/plain": [
       "   released  colour  year  age     sex  employed  citizen  checks\n",
       "0         1       1  2002   21    Male         1        1       3\n",
       "1         0       0  1999   17    Male         1        1       3\n",
       "2         1       1  2000   24    Male         1        1       3\n",
       "3         0       0  2000   46    Male         1        1       1\n",
       "4         1       0  1999   27  Female         1        1       1"
      ]
     },
     "execution_count": 5,
     "metadata": {},
     "output_type": "execute_result"
    }
   ],
   "source": [
    "Arrests.head()"
   ]
  },
  {
   "cell_type": "code",
   "execution_count": 6,
   "metadata": {},
   "outputs": [],
   "source": [
    "ArrestsWhite = Arrests [ Arrests[\"colour\"] == 1]\n",
    "ArrestsBlack = Arrests [ Arrests[\"colour\"] == 0]"
   ]
  },
  {
   "cell_type": "code",
   "execution_count": 7,
   "metadata": {},
   "outputs": [
    {
     "data": {
      "image/png": "[encoded data removed]",
      "text/plain": [
       "<Figure size 432x288 with 1 Axes>"
      ]
     },
     "metadata": {
      "needs_background": "light"
     },
     "output_type": "display_data"
    },
    {
     "data": {
      "image/png": "[encoded data removed]",
      "text/plain": [
       "<Figure size 432x288 with 1 Axes>"
      ]
     },
     "metadata": {
      "needs_background": "light"
     },
     "output_type": "display_data"
    }
   ],
   "source": [
    "plt.hist(ArrestsWhite['released'], bins = 2)\n",
    "plt.show()\n",
    "plt.hist(ArrestsBlack['released'], bins = 2)\n",
    "plt.show()"
   ]
  },
  {
   "cell_type": "code",
   "execution_count": 8,
   "metadata": {},
   "outputs": [
    {
     "data": {
      "text/plain": [
       "array([0.11659014])"
      ]
     },
     "execution_count": 8,
     "metadata": {},
     "output_type": "execute_result"
    }
   ],
   "source": [
    "race_model = LinearRegression().fit(Arrests[[\"colour\"]], Arrests[\"released\"])\n",
    "race_model.coef_"
   ]
  },
  {
   "cell_type": "code",
   "execution_count": 9,
   "metadata": {},
   "outputs": [],
   "source": [
    "check_model = LinearRegression().fit(Arrests[[\"colour\"]], Arrests[\"checks\"])"
   ]
  },
  {
   "cell_type": "code",
   "execution_count": 10,
   "metadata": {},
   "outputs": [],
   "source": [
    "checkrelease_model = LinearRegression().fit(Arrests[[\"checks\"]], Arrests[\"released\"])"
   ]
  },
  {
   "cell_type": "code",
   "execution_count": 11,
   "metadata": {},
   "outputs": [
    {
     "data": {
      "text/plain": [
       "array([-0.61436111])"
      ]
     },
     "execution_count": 11,
     "metadata": {},
     "output_type": "execute_result"
    }
   ],
   "source": [
    "check_model.coef_"
   ]
  },
  {
   "cell_type": "code",
   "execution_count": 12,
   "metadata": {},
   "outputs": [
    {
     "data": {
      "text/plain": [
       "array([-0.06101365])"
      ]
     },
     "execution_count": 12,
     "metadata": {},
     "output_type": "execute_result"
    }
   ],
   "source": [
    "checkrelease_model.coef_"
   ]
  },
  {
   "cell_type": "code",
   "execution_count": 13,
   "metadata": {},
   "outputs": [
    {
     "name": "stdout",
     "output_type": "stream",
     "text": [
      "Mean # of Checks for Black Arrests 2.099378881987578\n",
      "Mean # of Checks for White Arrests 1.485017775520569\n"
     ]
    }
   ],
   "source": [
    "print(f'Mean # of Checks for Black Arrests {ArrestsBlack[\"checks\"].mean()}')\n",
    "print(f'Mean # of Checks for White Arrests {ArrestsWhite[\"checks\"].mean()}')      "
   ]
  },
  {
   "cell_type": "code",
   "execution_count": 28,
   "metadata": {},
   "outputs": [],
   "source": [
    "whiteCount = ArrestsWhite.groupby([\"year\"]).count()\n",
    "blackCount = ArrestsBlack.groupby([\"year\"]).count()"
   ]
  },
  {
   "cell_type": "code",
   "execution_count": 29,
   "metadata": {},
   "outputs": [
    {
     "data": {
      "text/html": [
       "<div>\n",
       "<style scoped>\n",
       "    .dataframe tbody tr th:only-of-type {\n",
       "        vertical-align: middle;\n",
       "    }\n",
       "\n",
       "    .dataframe tbody tr th {\n",
       "        vertical-align: top;\n",
       "    }\n",
       "\n",
       "    .dataframe thead th {\n",
       "        text-align: right;\n",
       "    }\n",
       "</style>\n",
       "<table border=\"1\" class=\"dataframe\">\n",
       "  <thead>\n",
       "    <tr style=\"text-align: right;\">\n",
       "      <th></th>\n",
       "      <th>released</th>\n",
       "      <th>colour</th>\n",
       "      <th>age</th>\n",
       "      <th>sex</th>\n",
       "      <th>employed</th>\n",
       "      <th>citizen</th>\n",
       "      <th>checks</th>\n",
       "    </tr>\n",
       "    <tr>\n",
       "      <th>year</th>\n",
       "      <th></th>\n",
       "      <th></th>\n",
       "      <th></th>\n",
       "      <th></th>\n",
       "      <th></th>\n",
       "      <th></th>\n",
       "      <th></th>\n",
       "    </tr>\n",
       "  </thead>\n",
       "  <tbody>\n",
       "    <tr>\n",
       "      <th>1997</th>\n",
       "      <td>369</td>\n",
       "      <td>369</td>\n",
       "      <td>369</td>\n",
       "      <td>369</td>\n",
       "      <td>369</td>\n",
       "      <td>369</td>\n",
       "      <td>369</td>\n",
       "    </tr>\n",
       "    <tr>\n",
       "      <th>1998</th>\n",
       "      <td>637</td>\n",
       "      <td>637</td>\n",
       "      <td>637</td>\n",
       "      <td>637</td>\n",
       "      <td>637</td>\n",
       "      <td>637</td>\n",
       "      <td>637</td>\n",
       "    </tr>\n",
       "    <tr>\n",
       "      <th>1999</th>\n",
       "      <td>849</td>\n",
       "      <td>849</td>\n",
       "      <td>849</td>\n",
       "      <td>849</td>\n",
       "      <td>849</td>\n",
       "      <td>849</td>\n",
       "      <td>849</td>\n",
       "    </tr>\n",
       "    <tr>\n",
       "      <th>2000</th>\n",
       "      <td>991</td>\n",
       "      <td>991</td>\n",
       "      <td>991</td>\n",
       "      <td>991</td>\n",
       "      <td>991</td>\n",
       "      <td>991</td>\n",
       "      <td>991</td>\n",
       "    </tr>\n",
       "    <tr>\n",
       "      <th>2001</th>\n",
       "      <td>900</td>\n",
       "      <td>900</td>\n",
       "      <td>900</td>\n",
       "      <td>900</td>\n",
       "      <td>900</td>\n",
       "      <td>900</td>\n",
       "      <td>900</td>\n",
       "    </tr>\n",
       "    <tr>\n",
       "      <th>2002</th>\n",
       "      <td>192</td>\n",
       "      <td>192</td>\n",
       "      <td>192</td>\n",
       "      <td>192</td>\n",
       "      <td>192</td>\n",
       "      <td>192</td>\n",
       "      <td>192</td>\n",
       "    </tr>\n",
       "  </tbody>\n",
       "</table>\n",
       "</div>"
      ],
      "text/plain": [
       "      released  colour  age  sex  employed  citizen  checks\n",
       "year                                                       \n",
       "1997       369     369  369  369       369      369     369\n",
       "1998       637     637  637  637       637      637     637\n",
       "1999       849     849  849  849       849      849     849\n",
       "2000       991     991  991  991       991      991     991\n",
       "2001       900     900  900  900       900      900     900\n",
       "2002       192     192  192  192       192      192     192"
      ]
     },
     "execution_count": 29,
     "metadata": {},
     "output_type": "execute_result"
    }
   ],
   "source": [
    "whiteCount"
   ]
  },
  {
   "cell_type": "code",
   "execution_count": 45,
   "metadata": {},
   "outputs": [
    {
     "data": {
      "image/png": "[encoded data removed]",
      "text/plain": [
       "<Figure size 432x288 with 1 Axes>"
      ]
     },
     "metadata": {
      "needs_background": "light"
     },
     "output_type": "display_data"
    }
   ],
   "source": [
    "plt.plot(whiteCount.index, whiteCount[\"released\"], label = \"White Arrests\")\n",
    "plt.plot(blackCount.index, blackCount[\"released\"], Label = \"Black Arrests\")\n",
    "plt.xlabel(\"Year\")\n",
    "plt.ylabel(\"Number of Arrests\")\n",
    "plt.legend()\n",
    "plt.show()"
   ]
  },
  {
   "cell_type": "markdown",
   "metadata": {},
   "source": [
    "**Potential discrepancies in the data**:\n",
    "\n",
    "The primary speed bump we noticed when looking through this data was that there seemed to be far fewer arrests in 2002. At first glance, this might suggest that in 2002 a legal change or something else in the environment changed criminal policies for marijuana possession; however, it may be more reasonable to assume that the data is simply incomplete. This could be a result of the data collectors stopping collection mid-2002. This is the most likely reason, as our background research revealed that the rest of the data collected by The Star started in 2003, suggesting there may have been a gap in collection between 2002 and 2003. This could potentially cause trouble if we were to conduct an analysis by year. However, since our questions is more focused on the trends between demographic factors and not progress over time, this gap in data probably won't impact us to much. \n",
    "\n",
    "Another flaw of this data is that it fails to have data on racial identites beyond White and Black. Although the demographic population of Toronto was not *super* diverse in the 2000s, White and Black people respectively represented roughly 50% and 8% of Toronto's population in the early 2000s. Toronto is also home to significant South Asian and Chinese groups as well. It's possible that arrests for people from these groups were excluded from the final dataset because of how few there were — historically, these groups have lower crime and arrest rates than White and Black populations, suggesting that there were so few marijuana-related arrests during this time period that the publishers chose to omit them."
   ]
  },
  {
   "cell_type": "code",
   "execution_count": null,
   "metadata": {},
   "outputs": [],
   "source": []
  }
 ],
 "metadata": {
  "kernelspec": {
   "display_name": "Python 3",
   "language": "python",
   "name": "python3"
  },
  "language_info": {
   "codemirror_mode": {
    "name": "ipython",
    "version": 3
   },
   "file_extension": ".py",
   "mimetype": "text/x-python",
   "name": "python",
   "nbconvert_exporter": "python",
   "pygments_lexer": "ipython3",
   "version": "3.7.6"
  }
 },
 "nbformat": 4,
 "nbformat_minor": 2
}
